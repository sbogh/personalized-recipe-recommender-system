{
  "cells": [
    {
      "cell_type": "markdown",
      "metadata": {
        "id": "ScTjM-H8CLNz"
      },
      "source": [
        "# Assignment 2\n",
        "###Import the Dataset"
      ]
    },
    {
      "cell_type": "code",
      "execution_count": null,
      "metadata": {
        "id": "mhSN918GCqCX"
      },
      "outputs": [],
      "source": [
        "import numpy as np\n",
        "import matplotlib.pyplot as plt\n",
        "import csv\n",
        "import math\n",
        "import pandas as pd\n",
        "from datetime import datetime\n",
        "import dateutil\n",
        "import ast\n",
        "from wordcloud import WordCloud"
      ]
    },
    {
      "cell_type": "code",
      "execution_count": null,
      "metadata": {
        "colab": {
          "base_uri": "https://localhost:8080/",
          "height": 90
        },
        "id": "f_6GEo4YC75C",
        "outputId": "15c264d9-5465-41b7-cb21-b14ed20c7787"
      },
      "outputs": [
        {
          "data": {
            "text/html": [
              "\n",
              "     <input type=\"file\" id=\"files-7df2040a-63a1-4100-be70-de4b6860e894\" name=\"files[]\" multiple disabled\n",
              "        style=\"border:none\" />\n",
              "     <output id=\"result-7df2040a-63a1-4100-be70-de4b6860e894\">\n",
              "      Upload widget is only available when the cell has been executed in the\n",
              "      current browser session. Please rerun this cell to enable.\n",
              "      </output>\n",
              "      <script>// Copyright 2017 Google LLC\n",
              "//\n",
              "// Licensed under the Apache License, Version 2.0 (the \"License\");\n",
              "// you may not use this file except in compliance with the License.\n",
              "// You may obtain a copy of the License at\n",
              "//\n",
              "//      http://www.apache.org/licenses/LICENSE-2.0\n",
              "//\n",
              "// Unless required by applicable law or agreed to in writing, software\n",
              "// distributed under the License is distributed on an \"AS IS\" BASIS,\n",
              "// WITHOUT WARRANTIES OR CONDITIONS OF ANY KIND, either express or implied.\n",
              "// See the License for the specific language governing permissions and\n",
              "// limitations under the License.\n",
              "\n",
              "/**\n",
              " * @fileoverview Helpers for google.colab Python module.\n",
              " */\n",
              "(function(scope) {\n",
              "function span(text, styleAttributes = {}) {\n",
              "  const element = document.createElement('span');\n",
              "  element.textContent = text;\n",
              "  for (const key of Object.keys(styleAttributes)) {\n",
              "    element.style[key] = styleAttributes[key];\n",
              "  }\n",
              "  return element;\n",
              "}\n",
              "\n",
              "// Max number of bytes which will be uploaded at a time.\n",
              "const MAX_PAYLOAD_SIZE = 100 * 1024;\n",
              "\n",
              "function _uploadFiles(inputId, outputId) {\n",
              "  const steps = uploadFilesStep(inputId, outputId);\n",
              "  const outputElement = document.getElementById(outputId);\n",
              "  // Cache steps on the outputElement to make it available for the next call\n",
              "  // to uploadFilesContinue from Python.\n",
              "  outputElement.steps = steps;\n",
              "\n",
              "  return _uploadFilesContinue(outputId);\n",
              "}\n",
              "\n",
              "// This is roughly an async generator (not supported in the browser yet),\n",
              "// where there are multiple asynchronous steps and the Python side is going\n",
              "// to poll for completion of each step.\n",
              "// This uses a Promise to block the python side on completion of each step,\n",
              "// then passes the result of the previous step as the input to the next step.\n",
              "function _uploadFilesContinue(outputId) {\n",
              "  const outputElement = document.getElementById(outputId);\n",
              "  const steps = outputElement.steps;\n",
              "\n",
              "  const next = steps.next(outputElement.lastPromiseValue);\n",
              "  return Promise.resolve(next.value.promise).then((value) => {\n",
              "    // Cache the last promise value to make it available to the next\n",
              "    // step of the generator.\n",
              "    outputElement.lastPromiseValue = value;\n",
              "    return next.value.response;\n",
              "  });\n",
              "}\n",
              "\n",
              "/**\n",
              " * Generator function which is called between each async step of the upload\n",
              " * process.\n",
              " * @param {string} inputId Element ID of the input file picker element.\n",
              " * @param {string} outputId Element ID of the output display.\n",
              " * @return {!Iterable<!Object>} Iterable of next steps.\n",
              " */\n",
              "function* uploadFilesStep(inputId, outputId) {\n",
              "  const inputElement = document.getElementById(inputId);\n",
              "  inputElement.disabled = false;\n",
              "\n",
              "  const outputElement = document.getElementById(outputId);\n",
              "  outputElement.innerHTML = '';\n",
              "\n",
              "  const pickedPromise = new Promise((resolve) => {\n",
              "    inputElement.addEventListener('change', (e) => {\n",
              "      resolve(e.target.files);\n",
              "    });\n",
              "  });\n",
              "\n",
              "  const cancel = document.createElement('button');\n",
              "  inputElement.parentElement.appendChild(cancel);\n",
              "  cancel.textContent = 'Cancel upload';\n",
              "  const cancelPromise = new Promise((resolve) => {\n",
              "    cancel.onclick = () => {\n",
              "      resolve(null);\n",
              "    };\n",
              "  });\n",
              "\n",
              "  // Wait for the user to pick the files.\n",
              "  const files = yield {\n",
              "    promise: Promise.race([pickedPromise, cancelPromise]),\n",
              "    response: {\n",
              "      action: 'starting',\n",
              "    }\n",
              "  };\n",
              "\n",
              "  cancel.remove();\n",
              "\n",
              "  // Disable the input element since further picks are not allowed.\n",
              "  inputElement.disabled = true;\n",
              "\n",
              "  if (!files) {\n",
              "    return {\n",
              "      response: {\n",
              "        action: 'complete',\n",
              "      }\n",
              "    };\n",
              "  }\n",
              "\n",
              "  for (const file of files) {\n",
              "    const li = document.createElement('li');\n",
              "    li.append(span(file.name, {fontWeight: 'bold'}));\n",
              "    li.append(span(\n",
              "        `(${file.type || 'n/a'}) - ${file.size} bytes, ` +\n",
              "        `last modified: ${\n",
              "            file.lastModifiedDate ? file.lastModifiedDate.toLocaleDateString() :\n",
              "                                    'n/a'} - `));\n",
              "    const percent = span('0% done');\n",
              "    li.appendChild(percent);\n",
              "\n",
              "    outputElement.appendChild(li);\n",
              "\n",
              "    const fileDataPromise = new Promise((resolve) => {\n",
              "      const reader = new FileReader();\n",
              "      reader.onload = (e) => {\n",
              "        resolve(e.target.result);\n",
              "      };\n",
              "      reader.readAsArrayBuffer(file);\n",
              "    });\n",
              "    // Wait for the data to be ready.\n",
              "    let fileData = yield {\n",
              "      promise: fileDataPromise,\n",
              "      response: {\n",
              "        action: 'continue',\n",
              "      }\n",
              "    };\n",
              "\n",
              "    // Use a chunked sending to avoid message size limits. See b/62115660.\n",
              "    let position = 0;\n",
              "    do {\n",
              "      const length = Math.min(fileData.byteLength - position, MAX_PAYLOAD_SIZE);\n",
              "      const chunk = new Uint8Array(fileData, position, length);\n",
              "      position += length;\n",
              "\n",
              "      const base64 = btoa(String.fromCharCode.apply(null, chunk));\n",
              "      yield {\n",
              "        response: {\n",
              "          action: 'append',\n",
              "          file: file.name,\n",
              "          data: base64,\n",
              "        },\n",
              "      };\n",
              "\n",
              "      let percentDone = fileData.byteLength === 0 ?\n",
              "          100 :\n",
              "          Math.round((position / fileData.byteLength) * 100);\n",
              "      percent.textContent = `${percentDone}% done`;\n",
              "\n",
              "    } while (position < fileData.byteLength);\n",
              "  }\n",
              "\n",
              "  // All done.\n",
              "  yield {\n",
              "    response: {\n",
              "      action: 'complete',\n",
              "    }\n",
              "  };\n",
              "}\n",
              "\n",
              "scope.google = scope.google || {};\n",
              "scope.google.colab = scope.google.colab || {};\n",
              "scope.google.colab._files = {\n",
              "  _uploadFiles,\n",
              "  _uploadFilesContinue,\n",
              "};\n",
              "})(self);\n",
              "</script> "
            ],
            "text/plain": [
              "<IPython.core.display.HTML object>"
            ]
          },
          "metadata": {},
          "output_type": "display_data"
        },
        {
          "name": "stdout",
          "output_type": "stream",
          "text": [
            "Saving kaggle.json to kaggle.json\n"
          ]
        },
        {
          "data": {
            "text/plain": [
              "{'kaggle.json': b'{\"username\":\"happydatasb\",\"key\":\"c80e18fc19f9a7bfb58312fc91f7eee7\"}'}"
            ]
          },
          "execution_count": 2,
          "metadata": {},
          "output_type": "execute_result"
        }
      ],
      "source": [
        "!pip install -q kaggle\n",
        "from google.colab import files\n",
        "files.upload()"
      ]
    },
    {
      "cell_type": "code",
      "execution_count": null,
      "metadata": {
        "id": "U5GXnLuTDBsg"
      },
      "outputs": [],
      "source": [
        "import os\n",
        "os.makedirs('/root/.kaggle', exist_ok=True)\n",
        "os.rename('kaggle.json', '/root/.kaggle/kaggle.json')"
      ]
    },
    {
      "cell_type": "code",
      "execution_count": null,
      "metadata": {
        "colab": {
          "base_uri": "https://localhost:8080/"
        },
        "id": "P61zujgfDJpd",
        "outputId": "c8de6f7f-98d0-4ecf-e27f-f533ef28ca4c"
      },
      "outputs": [
        {
          "name": "stdout",
          "output_type": "stream",
          "text": [
            "Warning: Your Kaggle API key is readable by other users on this system! To fix this, you can run 'chmod 600 /root/.kaggle/kaggle.json'\n",
            "Dataset URL: https://www.kaggle.com/datasets/shuyangli94/food-com-recipes-and-user-interactions\n",
            "License(s): copyright-authors\n",
            "Downloading food-com-recipes-and-user-interactions.zip to /content\n",
            " 95% 255M/267M [00:01<00:00, 183MB/s]\n",
            "100% 267M/267M [00:01<00:00, 195MB/s]\n",
            "Archive:  food-com-recipes-and-user-interactions.zip\n",
            "  inflating: /content/PP_recipes.csv  \n",
            "  inflating: /content/PP_users.csv   \n",
            "  inflating: /content/RAW_interactions.csv  \n",
            "  inflating: /content/RAW_recipes.csv  \n",
            "  inflating: /content/ingr_map.pkl   \n",
            "  inflating: /content/interactions_test.csv  \n",
            "  inflating: /content/interactions_train.csv  \n",
            "  inflating: /content/interactions_validation.csv  \n"
          ]
        }
      ],
      "source": [
        "!kaggle datasets download -d shuyangli94/food-com-recipes-and-user-interactions\n",
        "!unzip food-com-recipes-and-user-interactions.zip -d /content/"
      ]
    },
    {
      "cell_type": "code",
      "execution_count": null,
      "metadata": {
        "id": "AKu6b5RZDLgq"
      },
      "outputs": [],
      "source": [
        "# Read in the main RAW_Interactions File\n",
        "def readFileIn(path):\n",
        "    data = []\n",
        "    with open(path, 'r', errors = \"ignore\") as file:\n",
        "        csv_reader = csv.reader(file)\n",
        "        for d in csv_reader:\n",
        "            if d[0] == \"user_id\":\n",
        "                continue\n",
        "            data.append((d[0], d[1], d[2], d[3], d[4]))\n",
        "\n",
        "    return data\n",
        "\n",
        "data = readFileIn('RAW_interactions.csv')\n",
        "\n",
        "### Interactions Format: [user_id, recipe_id, date, rating, review]\n",
        "\n",
        "# Read in RAW_Recipes file\n",
        "def readRecipesIn(path):\n",
        "    return pd.read_csv(path)\n",
        "\n",
        "recipes = readRecipesIn(\"RAW_recipes.csv\")"
      ]
    },
    {
      "cell_type": "code",
      "execution_count": null,
      "metadata": {
        "colab": {
          "base_uri": "https://localhost:8080/"
        },
        "id": "Wn8xRiCKDSs8",
        "outputId": "1ebade89-b1ca-4ce9-fbc4-c4ca19aacfdc"
      },
      "outputs": [
        {
          "name": "stdout",
          "output_type": "stream",
          "text": [
            "<class 'pandas.core.frame.DataFrame'>\n",
            "RangeIndex: 231637 entries, 0 to 231636\n",
            "Data columns (total 12 columns):\n",
            " #   Column          Non-Null Count   Dtype \n",
            "---  ------          --------------   ----- \n",
            " 0   name            231636 non-null  object\n",
            " 1   id              231637 non-null  int64 \n",
            " 2   minutes         231637 non-null  int64 \n",
            " 3   contributor_id  231637 non-null  int64 \n",
            " 4   submitted       231637 non-null  object\n",
            " 5   tags            231637 non-null  object\n",
            " 6   nutrition       231637 non-null  object\n",
            " 7   n_steps         231637 non-null  int64 \n",
            " 8   steps           231637 non-null  object\n",
            " 9   description     226658 non-null  object\n",
            " 10  ingredients     231637 non-null  object\n",
            " 11  n_ingredients   231637 non-null  int64 \n",
            "dtypes: int64(5), object(7)\n",
            "memory usage: 21.2+ MB\n",
            "None\n"
          ]
        }
      ],
      "source": [
        "## Recipes Formats\n",
        "print(recipes.info())"
      ]
    },
    {
      "cell_type": "markdown",
      "metadata": {
        "id": "YU6pAcvTDb_s"
      },
      "source": [
        "### General Statistics\n",
        "\n",
        "In this section, we perform exploratory data analysis on our dataset."
      ]
    },
    {
      "cell_type": "code",
      "execution_count": null,
      "metadata": {
        "colab": {
          "base_uri": "https://localhost:8080/"
        },
        "id": "YY36zgrEDYhX",
        "outputId": "36250767-6937-4346-92c6-727030eb42bf"
      },
      "outputs": [
        {
          "name": "stdout",
          "output_type": "stream",
          "text": [
            "# of Users: 226570\n",
            "\n",
            "# of Recipes: 231637\n",
            "\n",
            "# of Reviews: 1132367\n",
            "\n",
            "Data Sparsity: 0.99998\n",
            "\n",
            "Oldest Review: 2000-01-25\n",
            "\n",
            "Newest Review: 2018-12-20\n",
            "\n",
            "Average # of Ingredients: 9.051\n",
            "\n",
            "Standard Deviation of # of Ingredients: 3.735\n",
            "\n",
            "Average Time Per Recipe: 9398.546\n",
            "\n",
            "Standard Deviation of Time Per Recipe: 4461963.039\n",
            "\n",
            "Average Steps Per Recipe: 9.765\n",
            "\n",
            "Standard Deviation of Steps Per Recipe: 5.995\n",
            "\n",
            "# of Tags for Recipes: 903\n",
            "\n"
          ]
        }
      ],
      "source": [
        "### Basic Information\n",
        "data_df = pd.DataFrame({\"user_id\": [d[0] for d in data],\n",
        "        \"recipe_id\": [d[1] for d in data],\n",
        "        \"date\": [d[2] for d in data],\n",
        "        \"rating\": [int(d[3]) for d in data],\n",
        "        \"review\": [d[4] for d in data]}\n",
        "    )\n",
        "\n",
        "## User and Recipe Count\n",
        "\n",
        "def userCount(df):\n",
        "    return df[\"user_id\"].nunique()\n",
        "\n",
        "def recipeCount(df):\n",
        "    return df[\"recipe_id\"].nunique()\n",
        "\n",
        "nUsers = userCount(data_df)\n",
        "nRecipes = recipeCount(data_df)\n",
        "\n",
        "print(\"# of Users: \" + str(nUsers) + \"\\n\")\n",
        "print(\"# of Recipes: \" + str(nRecipes) + \"\\n\")\n",
        "print(\"# of Reviews: \" + str(len(data)) + \"\\n\")\n",
        "\n",
        "## Data Sparsity\n",
        "nInteractions = data_df.shape[0] # the number of interactions in the dataset\n",
        "\n",
        "maxPossibleInteractions = nUsers * nRecipes # the maxmimum interactions that could exist from this dataset\n",
        "\n",
        "sparsity = 1 - (nInteractions / maxPossibleInteractions)\n",
        "\n",
        "print(\"Data Sparsity: \" + str(round(sparsity, 5)) + \"\\n\")\n",
        "# this means the subset of recipes the users have interacted with is quite small compared to total number of recipes. Helps us justify using SVD or other dimensionality reducing techniques\n",
        "\n",
        "## Oldest and Newest Review\n",
        "\n",
        "convert_dates = [datetime.strptime(date, \"%Y-%m-%d\") for date in data_df[\"date\"]]\n",
        "oldest = str(min(convert_dates)).split()\n",
        "newest = str(max(convert_dates)).split()\n",
        "\n",
        "print(\"Oldest Review: \" + oldest[0] + \"\\n\")\n",
        "print(\"Newest Review: \" + newest[0] + \"\\n\")\n",
        "\n",
        "## Recipe Ingredients Stats\n",
        "\n",
        "nIngredientsAvg = round(recipes[\"n_ingredients\"].mean(), 3)\n",
        "stdDevIngredients = round(recipes[\"n_ingredients\"].std(), 3)\n",
        "\n",
        "print(\"Average # of Ingredients: \" + str(nIngredientsAvg) + \"\\n\")\n",
        "print(\"Standard Deviation of # of Ingredients: \" + str(stdDevIngredients) + \"\\n\")\n",
        "\n",
        "## Average Cooking Time\n",
        "\n",
        "averageTime = round(recipes[\"minutes\"].mean(), 3)\n",
        "stdDevTime = round(recipes[\"minutes\"].std(), 3)\n",
        "\n",
        "print(\"Average Time Per Recipe: \" + str(averageTime) + \"\\n\")\n",
        "print(\"Standard Deviation of Time Per Recipe: \" + str(stdDevTime) + \"\\n\")\n",
        "\n",
        "## Average Number of Steps\n",
        "\n",
        "nStepsAvg = round(recipes[\"n_steps\"].mean(), 3)\n",
        "nStepsStdDev = round(recipes[\"n_steps\"].std(), 3)\n",
        "\n",
        "print(\"Average Steps Per Recipe: \" + str(nStepsAvg) + \"\\n\")\n",
        "print(\"Standard Deviation of Steps Per Recipe: \" + str(nStepsStdDev) + \"\\n\")\n",
        "\n",
        "## Recipe Tags\n",
        "\n",
        "# get all the tags from each recipe\n",
        "recipeTags = []\n",
        "for d in recipes[\"tags\"]:\n",
        "    for tag in d.split(\",\"):\n",
        "        if tag not in recipeTags:\n",
        "            recipeTags.append(tag)\n",
        "\n",
        "\n",
        "# filter out extra characters in the tags\n",
        "chars = set(\"[]'\")\n",
        "for index, value in enumerate(recipeTags):\n",
        "    if any((c in chars) for c in value):\n",
        "        for remove in \"[]'\":\n",
        "            value = value.replace(remove, \"\")\n",
        "        recipeTags[index] = value.strip()\n",
        "\n",
        "print(\"# of Tags for Recipes: \" + str(len(recipeTags)) + \"\\n\")"
      ]
    },
    {
      "cell_type": "code",
      "execution_count": null,
      "metadata": {
        "colab": {
          "base_uri": "https://localhost:8080/"
        },
        "id": "_fic0SddDul5",
        "outputId": "96f30d1c-baa1-4606-b1f5-f7903a8938b7"
      },
      "outputs": [
        {
          "name": "stdout",
          "output_type": "stream",
          "text": [
            "name                                          no bake granola balls\n",
            "id                                                           261647\n",
            "minutes                                                  2147483647\n",
            "contributor_id                                               464080\n",
            "submitted                                                2007-10-26\n",
            "tags              ['60-minutes-or-less', 'time-to-make', 'course...\n",
            "nutrition               [330.3, 23.0, 110.0, 4.0, 15.0, 24.0, 15.0]\n",
            "n_steps                                                           9\n",
            "steps             ['preheat the oven to 350 degrees', 'spread oa...\n",
            "description       healthy snacks that kids (and grown ups) will ...\n",
            "ingredients       ['rolled oats', 'unsweetened dried shredded co...\n",
            "n_ingredients                                                     8\n",
            "Name: 144074, dtype: object\n"
          ]
        }
      ],
      "source": [
        "## Max Cooking Time and Recipe Associated\n",
        "# Given that the average and std dev is so high I wanted to look at what was causing this\n",
        "\n",
        "print(recipes.loc[recipes[\"minutes\"].idxmax()])\n",
        "\n",
        "# Either this is a mistake or someone made a recipe that takes about 4000 years to make might be worth excluding this and any other ridiculous recipes, i.e. set a limit for the # of minutes that would be reasonable for a recipe to have\n",
        "# See \"Recipe Time Distribution\" cell for further analysis on this"
      ]
    },
    {
      "cell_type": "code",
      "execution_count": null,
      "metadata": {
        "colab": {
          "base_uri": "https://localhost:8080/",
          "height": 501
        },
        "id": "Rxbi6pgyD4cD",
        "outputId": "2edbb0aa-d0a8-4678-b2f0-849395189c6a"
      },
      "outputs": [
        {
          "name": "stdout",
          "output_type": "stream",
          "text": [
            "Rating Mean: 4.411\n",
            "\n",
            "Ratings Standard Deviation: 1.265\n"
          ]
        },
        {
          "data": {
            "image/png": "[encoded data removed]",
            "text/plain": [
              "<Figure size 640x480 with 1 Axes>"
            ]
          },
          "metadata": {},
          "output_type": "display_data"
        }
      ],
      "source": [
        "### Rating Distribution\n",
        "\n",
        "ratings = {}\n",
        "for key in ['0', '1', '2', '3', '4', '5']:\n",
        "    ratings[key] = 0\n",
        "\n",
        "for d in data:\n",
        "    ratings[d[3]] += 1\n",
        "\n",
        "rating_keys = list(ratings.keys())\n",
        "rating_values = list(ratings.values())\n",
        "plt.barh(rating_keys, rating_values)\n",
        "plt.xlabel(\"Quantity\")\n",
        "plt.ylabel(\"Star Rating (0-5)\")\n",
        "\n",
        "for index, value in enumerate(list(ratings.values())):\n",
        "    if (index == 5):\n",
        "        plt.text(value - 100000, index, str(value))\n",
        "    else:\n",
        "        plt.text(value, index, str(value))\n",
        "\n",
        "### Rating Mean and Standard Deviation\n",
        "\n",
        "ratingMean = 0\n",
        "for key in list(ratings.keys()):\n",
        "    ratingMean += int(key) * ratings[key]\n",
        "\n",
        "ratingMean /= sum(list(ratings.values()))\n",
        "ratingMean = round(ratingMean, 3)\n",
        "\n",
        "ratings = [int(d[3]) for d in data]\n",
        "ratingStdDev = round(np.std(ratings), 3)\n",
        "\n",
        "print(\"Rating Mean: \" + str(ratingMean) + \"\\n\")\n",
        "print(\"Ratings Standard Deviation: \" + str(ratingStdDev))"
      ]
    },
    {
      "cell_type": "markdown",
      "metadata": {
        "id": "zC47R_EqD_Ae"
      },
      "source": [
        "As seen from figure, ratings are heavily left-skewed."
      ]
    },
    {
      "cell_type": "code",
      "execution_count": null,
      "metadata": {
        "colab": {
          "base_uri": "https://localhost:8080/",
          "height": 466
        },
        "id": "MyRO0-DqD7JA",
        "outputId": "1c18f5ff-71d6-42ee-9b9e-92bc6df4a11a"
      },
      "outputs": [
        {
          "data": {
            "text/plain": [
              "Text(0, 0.5, 'Recipe Time (minutes)')"
            ]
          },
          "execution_count": 10,
          "metadata": {},
          "output_type": "execute_result"
        },
        {
          "data": {
            "image/png": "[encoded data removed]",
            "text/plain": [
              "<Figure size 640x480 with 1 Axes>"
            ]
          },
          "metadata": {},
          "output_type": "display_data"
        }
      ],
      "source": [
        "## Recipe Time Distribution\n",
        "bins = [0, 30, 60, 90, 120, 240, 1440, float('inf')]\n",
        "recipeTimes = [int(currTime) for currTime in recipes[\"minutes\"]]\n",
        "\n",
        "bucket_counts = [sum(bins[i] <= time < bins[i+1] if bins[i+1] != float('inf') else bins[i] <= time for time in recipeTimes)\n",
        "                 for i in range(len(bins) - 1)]\n",
        "\n",
        "bucket_labels = [f\"{int(bins[i])}-{int(bins[i+1])}\" if bins[i+1] != float('inf') else f\"{int(bins[i])}+\" for i in range(len(bins) - 1)]\n",
        "\n",
        "plt.clf()\n",
        "plt.barh(bucket_labels, bucket_counts, edgecolor='black')\n",
        "\n",
        "for index, value in enumerate(bucket_counts):\n",
        "    if index == 0 or index == 1:\n",
        "        plt.text(value - 9500, index, str(value))\n",
        "    else:\n",
        "        plt.text(value + 500, index, str(value))\n",
        "\n",
        "\n",
        "plt.xlabel(\"Number of Recipes\")\n",
        "plt.ylabel(\"Recipe Time (minutes)\")\n",
        "\n",
        "# From this, we find that there are about 2121 recipes that take longer than 24 hours which we might want to remove"
      ]
    },
    {
      "cell_type": "code",
      "execution_count": 22,
      "metadata": {
        "colab": {
          "base_uri": "https://localhost:8080/",
          "height": 472
        },
        "id": "i5LaqO-VEOLU",
        "outputId": "bb957dcf-1115-44bf-907a-fb68e8cfa585"
      },
      "outputs": [
        {
          "output_type": "display_data",
          "data": {
            "text/plain": [
              "<Figure size 640x480 with 1 Axes>"
            ],
            "image/png": "[encoded data removed]"
          },
          "metadata": {}
        }
      ],
      "source": [
        "### Ratings vs Time Sliding Window\n",
        "\n",
        "dateVals = [dataVal[2] for dataVal in data]\n",
        "ratings = [dataVal[3] for dataVal in data]\n",
        "dateUnix = []\n",
        "\n",
        "def date_to_unix_timestamp(dateVal):\n",
        "  date_obj = datetime.strptime(dateVal, \"%Y-%m-%d\")\n",
        "\n",
        "  return int(date_obj.timestamp())\n",
        "\n",
        "for dateVal in dateVals:\n",
        "  dateUnix.append(date_to_unix_timestamp(dateVal))\n",
        "\n",
        "ratingsTime=[]\n",
        "\n",
        "for date, rating in zip(dateUnix, ratings):\n",
        "    ratingsTime.append((date, rating))\n",
        "\n",
        "ratingsTime.sort()\n",
        "\n",
        "start_label = datetime.utcfromtimestamp(ratingsTime[0][0]).strftime('%Y-%m-%d')\n",
        "end_label = datetime.utcfromtimestamp(ratingsTime[-1][0]).strftime('%Y-%m-%d')\n",
        "\n",
        "wSize = 1000\n",
        "#x = dateVals # as raw times\n",
        "x = [dateutil.parser.parse(d) for d in dateVals]\n",
        "xu = [r[0] for r in ratingsTime] # as unix times\n",
        "y = [int(r[1]) for r in ratingsTime] # ratings\n",
        "\n",
        "xSum = sum(xu[:wSize])\n",
        "ySum = sum(y[:wSize])\n",
        "sliding = []\n",
        "\n",
        "for i in range(wSize,len(xu)):\n",
        "    xSum += xu[i] - xu[i-wSize]\n",
        "    ySum += y[i] - y[i-wSize]\n",
        "    sliding.append((xSum*1.0/wSize,ySum*1.0/wSize))\n",
        "\n",
        "X = [a[0] for a in sliding]\n",
        "Y = [a[1] for a in sliding]\n",
        "\n",
        "\n",
        "X_dates = [datetime.utcfromtimestamp(x).strftime('%Y-%m-%d') for x in X]\n",
        "\n",
        "#plt.plot(X[:],Y[:], label=\"5000 rating window\", color='k')\n",
        "#plt.xticks([X[600], X[-350]], [x[wSize+600].strftime(\"%d/%m/%Y\"), x[0].strftime(\"%d/%m/%Y\")])\n",
        "#plt.xlim(X[0], X[-1])\n",
        "plt.plot(X_dates[::1000], Y[::1000], label=f\"{wSize}-rating window\", color='k')\n",
        "plt.ylabel(\"Rating\")\n",
        "plt.xlabel(\"Date\")\n",
        "plt.legend(loc=\"best\",fontsize=8)\n",
        "plt.title(\"Ratings over time (sliding windows)\")\n",
        "#plt.xticks([str(x[0]),str(x[-1])], visible=True)\n",
        "start_label = X_dates[0]\n",
        "end_label = X_dates[-1]\n",
        "plt.xticks([X_dates[0], X_dates[-1]], [start_label, end_label])\n",
        "\n",
        "plt.show()"
      ]
    },
    {
      "cell_type": "code",
      "execution_count": null,
      "metadata": {
        "colab": {
          "base_uri": "https://localhost:8080/",
          "height": 472
        },
        "id": "CiB8hV5wETzb",
        "outputId": "00551a1a-f48f-4b84-cf71-de3eb13b06a8"
      },
      "outputs": [
        {
          "data": {
            "image/png": "[encoded data removed]",
            "text/plain": [
              "<Figure size 640x480 with 1 Axes>"
            ]
          },
          "metadata": {},
          "output_type": "display_data"
        }
      ],
      "source": [
        "### Ratings vs Month Sliding Window\n",
        "\n",
        "ratingsTime = []\n",
        "\n",
        "for date, rating in zip(dateVals, ratings):\n",
        "    date = dateutil.parser.parse(date)\n",
        "    date = int(str(date).split(\"-\")[1])\n",
        "    ratingsTime.append((date, int(rating))) # month\n",
        "\n",
        "buckets = {}\n",
        "buckets_avg = {}\n",
        "\n",
        "for i in range(12):\n",
        "  buckets[i + 1] = 0\n",
        "  buckets_avg[i + 1] = 0\n",
        "\n",
        "for month, rating in ratingsTime:\n",
        "  buckets[month] += rating\n",
        "  buckets_avg[month] += 1\n",
        "\n",
        "for month in buckets:\n",
        "  buckets[month] /= buckets_avg[month]\n",
        "\n",
        "X = [1, 2, 3, 4, 5, 6, 7, 8, 9, 10, 11, 12]\n",
        "Y = [buckets[i] for i in X]\n",
        "\n",
        "plt.plot(X, Y, color='k')\n",
        "plt.ylabel(\"Rating\")\n",
        "plt.xlabel(\"Month\")\n",
        "plt.xticks([X[0], X[1], X[2], X[3], X[4], X[5], X[6], X[7], X[8], X[9], X[10], X[-1]], X)\n",
        "plt.title(\"Seasonal Trends - Ratings\")\n",
        "\n",
        "plt.show()"
      ]
    },
    {
      "cell_type": "code",
      "execution_count": null,
      "metadata": {
        "colab": {
          "base_uri": "https://localhost:8080/",
          "height": 472
        },
        "id": "YbUmH2BjEjeR",
        "outputId": "ba427205-777f-4ac0-8319-323489326ffc"
      },
      "outputs": [
        {
          "data": {
            "image/png": "[encoded data removed]",
            "text/plain": [
              "<Figure size 640x480 with 1 Axes>"
            ]
          },
          "metadata": {},
          "output_type": "display_data"
        }
      ],
      "source": [
        "### Ratings vs Month Sliding Window\n",
        "\n",
        "ratingsTime = []\n",
        "\n",
        "for date, rating in zip(dateVals, ratings):\n",
        "    date = dateutil.parser.parse(date)\n",
        "    date = int(str(date).split(\"-\")[1])\n",
        "    ratingsTime.append((date, int(rating)))\n",
        "\n",
        "#start_label = datetime.utcfromtimestamp(ratingsTime[0][0]).strftime('%Y-%m-%d')\n",
        "#end_label = datetime.utcfromtimestamp(ratingsTime[-1][0]).strftime('%Y-%m-%d')\n",
        "\n",
        "buckets = {}\n",
        "buckets_avg = {}\n",
        "\n",
        "for i in range(12):\n",
        "  buckets[i + 1] = 0\n",
        "  buckets_avg[i + 1] = 0\n",
        "\n",
        "for month, rating in ratingsTime:\n",
        "  buckets[month] += rating\n",
        "  buckets_avg[month] += 1\n",
        "\n",
        "for month in buckets:\n",
        "  buckets[month] /= buckets_avg[month]\n",
        "\n",
        "X = [1, 2, 3, 4, 5, 6, 7, 8, 9, 10, 11, 12]\n",
        "Y = [buckets_avg[i] for i in X]\n",
        "\n",
        "plt.plot(X, Y, color='k')\n",
        "plt.ylabel(\"Number of Interactions\")\n",
        "plt.xlabel(\"Month\")\n",
        "plt.xticks([X[0], X[1], X[2], X[3], X[4], X[5], X[6], X[7], X[8], X[9], X[10], X[-1]], [1, 2, 3, 4, 5, 6, 7, 8, 9, 10, 11, 12])\n",
        "plt.title(\"Seasonal Trends - Interactions\")\n",
        "\n",
        "plt.show()"
      ]
    },
    {
      "cell_type": "markdown",
      "metadata": {
        "id": "rZBvvo-9EpgO"
      },
      "source": [
        "Tried analyzing popular ingredients by season next."
      ]
    },
    {
      "cell_type": "code",
      "execution_count": 24,
      "metadata": {
        "colab": {
          "base_uri": "https://localhost:8080/",
          "height": 211
        },
        "id": "oTJsWilAEl0N",
        "outputId": "84348d8d-307c-4648-bc99-142aaf468a57"
      },
      "outputs": [
        {
          "output_type": "error",
          "ename": "KeyboardInterrupt",
          "evalue": "",
          "traceback": [
            "\u001b[0;31m---------------------------------------------------------------------------\u001b[0m",
            "\u001b[0;31mKeyboardInterrupt\u001b[0m                         Traceback (most recent call last)",
            "\u001b[0;32m<ipython-input-24-bc243c1f9d86>\u001b[0m in \u001b[0;36m<cell line: 39>\u001b[0;34m()\u001b[0m\n\u001b[1;32m     41\u001b[0m     \u001b[0mdate\u001b[0m \u001b[0;34m=\u001b[0m \u001b[0mint\u001b[0m\u001b[0;34m(\u001b[0m\u001b[0mstr\u001b[0m\u001b[0;34m(\u001b[0m\u001b[0mdate\u001b[0m\u001b[0;34m)\u001b[0m\u001b[0;34m.\u001b[0m\u001b[0msplit\u001b[0m\u001b[0;34m(\u001b[0m\u001b[0;34m\"-\"\u001b[0m\u001b[0;34m)\u001b[0m\u001b[0;34m[\u001b[0m\u001b[0;36m1\u001b[0m\u001b[0;34m]\u001b[0m\u001b[0;34m)\u001b[0m\u001b[0;34m\u001b[0m\u001b[0;34m\u001b[0m\u001b[0m\n\u001b[1;32m     42\u001b[0m \u001b[0;34m\u001b[0m\u001b[0m\n\u001b[0;32m---> 43\u001b[0;31m     \u001b[0mrecipeIdx\u001b[0m \u001b[0;34m=\u001b[0m \u001b[0mrecipe_ids\u001b[0m\u001b[0;34m.\u001b[0m\u001b[0mindex\u001b[0m\u001b[0;34m(\u001b[0m\u001b[0md\u001b[0m\u001b[0;34m[\u001b[0m\u001b[0;36m1\u001b[0m\u001b[0;34m]\u001b[0m\u001b[0;34m)\u001b[0m\u001b[0;34m\u001b[0m\u001b[0;34m\u001b[0m\u001b[0m\n\u001b[0m\u001b[1;32m     44\u001b[0m     \u001b[0mcurrRecipeIngredients\u001b[0m \u001b[0;34m=\u001b[0m \u001b[0mast\u001b[0m\u001b[0;34m.\u001b[0m\u001b[0mliteral_eval\u001b[0m\u001b[0;34m(\u001b[0m\u001b[0mrecipes\u001b[0m\u001b[0;34m[\u001b[0m\u001b[0mrecipeIdx\u001b[0m\u001b[0;34m]\u001b[0m\u001b[0;34m[\u001b[0m\u001b[0;36m10\u001b[0m\u001b[0;34m]\u001b[0m\u001b[0;34m)\u001b[0m\u001b[0;34m\u001b[0m\u001b[0;34m\u001b[0m\u001b[0m\n\u001b[1;32m     45\u001b[0m \u001b[0;34m\u001b[0m\u001b[0m\n",
            "\u001b[0;31mKeyboardInterrupt\u001b[0m: "
          ]
        }
      ],
      "source": [
        "### Filter out Zero Ratings in Interactions\n",
        "\n",
        "interactions_nozeroes = []\n",
        "\n",
        "for d in data:\n",
        "  if int(d[3]) != 0:\n",
        "    interactions_nozeroes.append(d)\n",
        "\n",
        "### Most Popular Ingredient by Season\n",
        "\"\"\"\n",
        "For reference:\n",
        "Winter = [\"December\", \"January\", \"February\"]\n",
        "Spring = [\"March\", \"April\", \"May\"]\n",
        "Summer = [\"June\", \"July\", \"August\"]\n",
        "Fall = [\"September\", \"October\", \"November\"]\n",
        "\"\"\"\n",
        "\n",
        "def readRecipeNormal(path):\n",
        "    data = []\n",
        "    with open(path, 'r', errors = \"ignore\") as file:\n",
        "        csv_reader = csv.reader(file)\n",
        "        for d in csv_reader:\n",
        "            if d[0] == \"name\":\n",
        "                continue\n",
        "            data.append((d[0], d[1], d[2], d[3], d[4], d[5], d[6], d[7], d[8], d[9], d[10], d[11]))\n",
        "\n",
        "    return data\n",
        "\n",
        "recipes = readRecipeNormal(\"RAW_recipes.csv\")\n",
        "recipe_ids = [d[1] for d in recipes]\n",
        "\n",
        "# recipes format = [name, id, minutes, contributor_id, submitted, tags, nutrition, n_steps, steps, description, ingredients, n_ingredients]\n",
        "# Interactions Format: [user_id, recipe_id, date, rating, review]\n",
        "\n",
        "# Get Ingredients for all Recipes and Pair with Month\n",
        "\n",
        "data_ing_month = []\n",
        "\n",
        "for d in data:\n",
        "    date = dateutil.parser.parse(d[2])\n",
        "    date = int(str(date).split(\"-\")[1])\n",
        "\n",
        "    recipeIdx = recipe_ids.index(d[1])\n",
        "    currRecipeIngredients = ast.literal_eval(recipes[recipeIdx][10])\n",
        "\n",
        "    data_ing_month.append((date, currRecipeIngredients))\n",
        "\n",
        "winter = {}\n",
        "spring = {}\n",
        "summer = {}\n",
        "fall = {}\n",
        "\n",
        "\n",
        "for d in data_ing_month:\n",
        "  if d[0] in [12, 1, 2]:\n",
        "    for ing in d[1]:\n",
        "      if ing in winter:\n",
        "        winter[ing] += 1\n",
        "      else:\n",
        "        winter[ing] = 1\n",
        "  elif d[0] in [3, 4, 5]:\n",
        "    for ing in d[1]:\n",
        "      if ing in spring:\n",
        "        spring[ing] += 1\n",
        "      else:\n",
        "        spring[ing] = 1\n",
        "\n",
        "  elif d[0] in [6, 7, 8]:\n",
        "    for ing in d[1]:\n",
        "      if ing in summer:\n",
        "        summer[ing] += 1\n",
        "      else:\n",
        "        summer[ing] = 1\n",
        "\n",
        "  elif d[0] in [9, 10, 11]:\n",
        "    for ing in d[1]:\n",
        "      if ing in fall:\n",
        "        fall[ing] += 1\n",
        "      else:\n",
        "        fall[ing] = 1\n",
        "\n",
        "# Most Popular Ingredient in Each Season\n",
        "mostPopular_winter = max(winter, key=winter.get)\n",
        "mostPopular_spring = max(spring, key=spring.get)\n",
        "mostPopular_summer = max(summer, key=summer.get)\n",
        "mostPopular_fall = max(fall, key=fall.get)\n",
        "\n",
        "print(mostPopular_winter)\n",
        "print(mostPopular_spring)\n",
        "print(mostPopular_summer)\n",
        "print(mostPopular_fall)\n"
      ]
    },
    {
      "cell_type": "code",
      "execution_count": null,
      "metadata": {
        "id": "pive9lbiE4dY"
      },
      "outputs": [],
      "source": [
        "### Sort Ingredient Frequencies\n",
        "\n",
        "sortedWinter = dict(sorted(winter.items(), key = lambda x:x[1], reverse=1))\n",
        "sortedSpring = dict(sorted(spring.items(), key = lambda x:x[1], reverse=1))\n",
        "sortedSummer = dict(sorted(summer.items(), key = lambda x:x[1], reverse=1))\n",
        "sortedFall = dict(sorted(fall.items(), key = lambda x:x[1], reverse=1))\n",
        "\n",
        "print(sortedWinter)\n",
        "print(sortedSpring)\n",
        "print(sortedSummer)\n",
        "print(sortedFall)"
      ]
    },
    {
      "cell_type": "code",
      "execution_count": null,
      "metadata": {
        "id": "QwlES43qE6sW"
      },
      "outputs": [],
      "source": [
        "### Create Word Clouds for Seasons\n",
        "\n",
        "# Winter\n",
        "winter_wc = WordCloud().generate_from_frequencies(winter)\n",
        "plt.imshow(winter_wc, interpolation=\"bilinear\")\n",
        "plt.axis(\"off\")\n",
        "print(\"Winter Word Cloud\")\n",
        "plt.show()\n",
        "\n",
        "print(\"\\n \\n\")\n",
        "\n",
        "# Spring\n",
        "spring_wc = WordCloud().generate_from_frequencies(spring)\n",
        "plt.imshow(spring_wc, interpolation=\"bilinear\")\n",
        "plt.axis(\"off\")\n",
        "print(\"Spring Word Cloud\")\n",
        "plt.show()\n",
        "\n",
        "print(\"\\n \\n\")\n",
        "\n",
        "# Summer\n",
        "summer_wc = WordCloud().generate_from_frequencies(summer)\n",
        "plt.imshow(summer_wc, interpolation=\"bilinear\")\n",
        "plt.axis(\"off\")\n",
        "print(\"Summer Word Cloud\")\n",
        "plt.show()\n",
        "\n",
        "print(\"\\n \\n\")\n",
        "\n",
        "\n",
        "# Fall\n",
        "fall_wc = WordCloud().generate_from_frequencies(fall)\n",
        "plt.imshow(fall_wc, interpolation=\"bilinear\")\n",
        "plt.axis(\"off\")\n",
        "print(\"Fall Word Cloud\")\n",
        "plt.show()"
      ]
    },
    {
      "cell_type": "markdown",
      "metadata": {
        "id": "sq-NIJaVFud0"
      },
      "source": [
        "Some recipes were rated 0 but reviews were positive. Out of curiosity, wanted to try using sentiment polarity to re-rate any recipes that were rated '0'."
      ]
    },
    {
      "cell_type": "code",
      "execution_count": 25,
      "metadata": {
        "id": "uDtDTE28E84A",
        "colab": {
          "base_uri": "https://localhost:8080/"
        },
        "outputId": "0fb2d221-1172-49a7-f315-1a9d5a8cfc69"
      },
      "outputs": [
        {
          "output_type": "stream",
          "name": "stdout",
          "text": [
            "Collecting vaderSentiment\n",
            "  Downloading vaderSentiment-3.3.2-py2.py3-none-any.whl.metadata (572 bytes)\n",
            "Requirement already satisfied: requests in /usr/local/lib/python3.10/dist-packages (from vaderSentiment) (2.32.3)\n",
            "Requirement already satisfied: charset-normalizer<4,>=2 in /usr/local/lib/python3.10/dist-packages (from requests->vaderSentiment) (3.4.0)\n",
            "Requirement already satisfied: idna<4,>=2.5 in /usr/local/lib/python3.10/dist-packages (from requests->vaderSentiment) (3.10)\n",
            "Requirement already satisfied: urllib3<3,>=1.21.1 in /usr/local/lib/python3.10/dist-packages (from requests->vaderSentiment) (2.2.3)\n",
            "Requirement already satisfied: certifi>=2017.4.17 in /usr/local/lib/python3.10/dist-packages (from requests->vaderSentiment) (2024.8.30)\n",
            "Downloading vaderSentiment-3.3.2-py2.py3-none-any.whl (125 kB)\n",
            "\u001b[?25l   \u001b[90m━━━━━━━━━━━━━━━━━━━━━━━━━━━━━━━━━━━━━━━━\u001b[0m \u001b[32m0.0/126.0 kB\u001b[0m \u001b[31m?\u001b[0m eta \u001b[36m-:--:--\u001b[0m\r\u001b[2K   \u001b[90m━━━━━━━━━━━━━━━━━━━━━━━━━━━━━━━━━━━━━━━━\u001b[0m \u001b[32m126.0/126.0 kB\u001b[0m \u001b[31m3.7 MB/s\u001b[0m eta \u001b[36m0:00:00\u001b[0m\n",
            "\u001b[?25hInstalling collected packages: vaderSentiment\n",
            "Successfully installed vaderSentiment-3.3.2\n"
          ]
        }
      ],
      "source": [
        "!pip install vaderSentiment"
      ]
    },
    {
      "cell_type": "code",
      "execution_count": 26,
      "metadata": {
        "id": "v5n4YvXCGDmb"
      },
      "outputs": [],
      "source": [
        "from vaderSentiment.vaderSentiment import SentimentIntensityAnalyzer"
      ]
    },
    {
      "cell_type": "code",
      "execution_count": 27,
      "metadata": {
        "id": "rYop4YWuGHWY"
      },
      "outputs": [],
      "source": [
        "data = readFileIn('RAW_interactions.csv')\n",
        "data_df = pd.DataFrame({\"user_id\": [d[0] for d in data],\n",
        "        \"recipe_id\": [d[1] for d in data],\n",
        "        \"date\": [d[2] for d in data],\n",
        "        \"rating\": [int(d[3]) for d in data],\n",
        "        \"review\": [d[4] for d in data]}\n",
        ")\n",
        "\n",
        "analyzer=SentimentIntensityAnalyzer()\n",
        "def get_vader_sentiment_polarity(text):\n",
        "    sentiment = analyzer.polarity_scores(text)\n",
        "    return sentiment['compound']\n",
        "\n",
        "data_df['sentiment_polarity'] = data_df['review'].apply(get_vader_sentiment_polarity)\n"
      ]
    },
    {
      "cell_type": "code",
      "execution_count": 28,
      "metadata": {
        "id": "R5_nXBxUGTUT"
      },
      "outputs": [],
      "source": [
        "def adjust_rating(row):\n",
        "    if row['rating'] == 0:\n",
        "        if row['sentiment_polarity'] > 0.2:  # Positive sentiment\n",
        "            return 4 if row['sentiment_polarity'] > 0.5 else 3\n",
        "        elif row['sentiment_polarity'] < -0.2:  # Negative sentiment\n",
        "            return 1\n",
        "        else:  # Neutral sentiment\n",
        "            return 2\n",
        "    else:\n",
        "        return row['rating']"
      ]
    },
    {
      "cell_type": "code",
      "execution_count": 29,
      "metadata": {
        "id": "GS39TmllGWAP",
        "colab": {
          "base_uri": "https://localhost:8080/"
        },
        "outputId": "0aca67d4-d20c-48fe-a76e-761f2b856675"
      },
      "outputs": [
        {
          "output_type": "stream",
          "name": "stdout",
          "text": [
            "                                                    review  rating  \\\n",
            "0        Great with a salad. Cooked on top of stove for...       4   \n",
            "1        So simple, so delicious! Great for chilly fall...       5   \n",
            "2        This worked very well and is EASY.  I used not...       4   \n",
            "3        I made the Mexican topping and took it to bunk...       5   \n",
            "4        Made the cheddar bacon topping, adding a sprin...       5   \n",
            "...                                                    ...     ...   \n",
            "1132362  Another approach is to start making sauce with...       0   \n",
            "1132363  These were so delicious!  My husband and I tru...       5   \n",
            "1132364  WOW!  Sometimes I don't take the time to rate ...       5   \n",
            "1132365  Very good!  I used regular port as well.  The ...       4   \n",
            "1132366  I am so glad I googled and found this here. Th...       5   \n",
            "\n",
            "         sentiment_polarity  adjusted_rating  \n",
            "0                    0.7184                4  \n",
            "1                    0.8895                5  \n",
            "2                    0.8865                4  \n",
            "3                    0.5994                5  \n",
            "4                    0.0000                5  \n",
            "...                     ...              ...  \n",
            "1132362              0.3182                3  \n",
            "1132363              0.9639                5  \n",
            "1132364              0.9617                5  \n",
            "1132365              0.9047                4  \n",
            "1132366              0.9848                5  \n",
            "\n",
            "[1132367 rows x 4 columns]\n"
          ]
        }
      ],
      "source": [
        "# apply the rating adjustment\n",
        "data_df['adjusted_rating'] = data_df.apply(adjust_rating, axis=1)\n",
        "print(data_df[['review', 'rating', 'sentiment_polarity', 'adjusted_rating']])\n"
      ]
    },
    {
      "cell_type": "code",
      "execution_count": 30,
      "metadata": {
        "id": "0N6lZxpyGX3N"
      },
      "outputs": [],
      "source": [
        "import seaborn as sns"
      ]
    },
    {
      "cell_type": "code",
      "execution_count": 31,
      "metadata": {
        "id": "n1tf0NIYGihN",
        "colab": {
          "base_uri": "https://localhost:8080/",
          "height": 528
        },
        "outputId": "37b3c6d1-1f99-4329-b4b0-9b4d6a7693a2"
      },
      "outputs": [
        {
          "output_type": "display_data",
          "data": {
            "text/plain": [
              "<Figure size 1000x600 with 1 Axes>"
            ],
            "image/png": "[encoded data removed]"
          },
          "metadata": {}
        }
      ],
      "source": [
        "# Separate the old and new ratings\n",
        "old_ratings = data_df['rating']\n",
        "new_ratings = data_df['adjusted_rating']\n",
        "\n",
        "# Set up the figure and axis\n",
        "plt.figure(figsize=(10, 6))\n",
        "\n",
        "# Plot the old ratings\n",
        "sns.histplot(old_ratings, kde=True, color='blue', label='Old Ratings', stat='density')\n",
        "\n",
        "# Plot the new ratings\n",
        "sns.histplot(new_ratings, kde=True, color='red', label='New Ratings', stat='density')\n",
        "\n",
        "# Add labels and title\n",
        "plt.title('Distribution of Old and New Ratings')\n",
        "plt.xlabel('Rating')\n",
        "plt.ylabel('Density')\n",
        "\n",
        "# Add a legend\n",
        "plt.legend()\n",
        "\n",
        "# Show the plot\n",
        "plt.show()"
      ]
    },
    {
      "cell_type": "markdown",
      "metadata": {
        "id": "8CvUjSPqG192"
      },
      "source": [
        "# Baseline Models\n",
        "\n",
        "This first one that we are going to explore is a popularity-based model."
      ]
    },
    {
      "cell_type": "code",
      "source": [
        "import numpy as np\n",
        "import matplotlib.pyplot as plt\n",
        "import csv\n",
        "import math\n",
        "import pandas as pd\n",
        "from datetime import datetime\n",
        "from collections import defaultdict\n",
        "import random\n",
        "from sklearn.impute import SimpleImputer\n",
        "from sklearn.metrics import accuracy_score\n",
        "from sklearn.linear_model import LogisticRegression\n",
        "from sklearn.model_selection import train_test_split\n",
        "from sklearn.preprocessing import StandardScaler"
      ],
      "metadata": {
        "id": "lsIGTkPOgDWO"
      },
      "execution_count": 42,
      "outputs": []
    },
    {
      "cell_type": "code",
      "execution_count": 33,
      "metadata": {
        "id": "_F_9Uuq-Gpej"
      },
      "outputs": [],
      "source": [
        "from collections import defaultdict\n",
        "\n",
        "train_len = int(0.9*len(data))\n",
        "\n",
        "### Data Format: [user_id, recipe_id, date, rating, review]\n",
        "# Splitting into training and validation sets based on all data\n",
        "ratings_train = data[:train_len]\n",
        "ratings_valid = data[train_len:]\n",
        "\n",
        "ratings_per_user = defaultdict(set)\n",
        "ratings_per_recipe = defaultdict(set)\n",
        "ratingDict = {}\n",
        "\n",
        "# Populating the dictionaries from the training data\n",
        "for row in ratings_train:\n",
        "    user = row[0]\n",
        "    recipe = row[1]\n",
        "\n",
        "    ratings_per_user[user].add(recipe)\n",
        "    ratings_per_recipe[recipe].add(user)\n",
        "    ratingDict[(user, recipe)] = row[3]"
      ]
    },
    {
      "cell_type": "code",
      "execution_count": 34,
      "metadata": {
        "id": "wCoainzCHYww"
      },
      "outputs": [],
      "source": [
        "recipe_count = defaultdict(int)\n",
        "total_cooked = 0\n",
        "\n",
        "for row in data:\n",
        "    recipe_count[row[1]] += 1  # Count the number of interactions per recipe\n",
        "    total_cooked += 1            # Increment the total interactions count\n",
        "\n",
        "global_popularity = total_cooked/len(recipe_count)\n",
        "\n",
        "# Create a list of recipes sorted by popularity\n",
        "most_popular = [(recipe_count[x], x) for x in recipe_count]\n",
        "most_popular.sort(reverse=True)  # Sort by count in descending order\n",
        "\n",
        "# Create a set of all unique recipes\n",
        "all_recipes = set(recipe_count.keys())"
      ]
    },
    {
      "cell_type": "code",
      "execution_count": 36,
      "metadata": {
        "id": "EBA_th0nHaOg"
      },
      "outputs": [],
      "source": [
        "import random\n",
        "# Create validation set that denotes if the user has or has not used the recipe\n",
        "def use_negatives(ratings, ratings_per_user, all_recipes):\n",
        "    all_recipes_list=list(all_recipes)\n",
        "    count=0\n",
        "    with_negatives = []\n",
        "    for row in ratings:\n",
        "        user = row[0]\n",
        "        recipe = row[1]\n",
        "        with_negatives.append((user, recipe, 1))\n",
        "\n",
        "        user_recipes = set(ratings_per_user[user])\n",
        "        while True:\n",
        "            negative_recipe = random.choice(all_recipes_list)\n",
        "            if negative_recipe not in user_recipes:\n",
        "                with_negatives.append((user, negative_recipe, 0))\n",
        "                count+=1\n",
        "                break\n",
        "    return with_negatives\n",
        "\n",
        "cooked_valid = use_negatives(ratings_valid, ratings_per_user, all_recipes)"
      ]
    },
    {
      "cell_type": "code",
      "execution_count": 37,
      "metadata": {
        "id": "L4f-zG_PHb3p",
        "colab": {
          "base_uri": "https://localhost:8080/"
        },
        "outputId": "cb97ddcc-b0d0-4cdc-dbfa-3a513c8746a8"
      },
      "outputs": [
        {
          "output_type": "stream",
          "name": "stdout",
          "text": [
            "0.5\n"
          ]
        }
      ],
      "source": [
        "# Baseline prediction of giving all the recipes a prediction of 0\n",
        "correct = 0\n",
        "for user, recipe, label in cooked_valid:\n",
        "    if label==0:\n",
        "        correct+=1\n",
        "\n",
        "print(correct/len(cooked_valid))"
      ]
    },
    {
      "cell_type": "code",
      "execution_count": 38,
      "metadata": {
        "id": "xCvP4le6HgYS",
        "colab": {
          "base_uri": "https://localhost:8080/"
        },
        "outputId": "f3d14186-018a-4fd1-e64b-4f75fe954cb4"
      },
      "outputs": [
        {
          "output_type": "stream",
          "name": "stdout",
          "text": [
            "0.1 0.5459478792267545\n",
            "0.2 0.5953972641451116\n",
            "0.30000000000000004 0.6392963430680785\n",
            "0.4 0.6770666831512668\n",
            "0.5 0.7086332205904431\n",
            "0.6 0.7312627498079249\n",
            "0.7000000000000001 0.7401026166359053\n",
            "0.8 0.7258007541704566\n",
            "0.9 0.6703771735386843\n",
            "Best Accuracy: 0.74, Best Threshold: 0.70\n"
          ]
        }
      ],
      "source": [
        "\n",
        "\n",
        "best_popularity_accuracy = 0\n",
        "best_popularity_threshold = 0\n",
        "\n",
        "popularity_thresholds = np.arange(0.1, 1, 0.1)\n",
        "\n",
        "for p in popularity_thresholds:\n",
        "    return1 = set()\n",
        "    count = 0\n",
        "    threshold_count = total_cooked * p\n",
        "\n",
        "    for ic, recipe in most_popular:\n",
        "        count += ic\n",
        "        return1.add(recipe)\n",
        "        if count > threshold_count:\n",
        "            break\n",
        "\n",
        "    correct = 0\n",
        "    for user, recipe, label in cooked_valid:\n",
        "        prediction = 1 if recipe in return1 else 0\n",
        "        if prediction == label:\n",
        "            correct += 1\n",
        "\n",
        "    accuracy = correct / len(cooked_valid)\n",
        "\n",
        "    print(p, accuracy)\n",
        "    if accuracy > best_popularity_accuracy:\n",
        "        best_popularity_accuracy = accuracy\n",
        "        best_popularity_threshold = p\n",
        "\n",
        "print(f\"Best Accuracy: {best_popularity_accuracy:.2f}, Best Threshold: {best_popularity_threshold:.2f}\")"
      ]
    },
    {
      "cell_type": "code",
      "execution_count": 39,
      "metadata": {
        "id": "33FnZlarHpYR",
        "colab": {
          "base_uri": "https://localhost:8080/"
        },
        "outputId": "1c63e905-141a-43d6-cc51-c6c5996a0402"
      },
      "outputs": [
        {
          "output_type": "stream",
          "name": "stdout",
          "text": [
            "Precision: 0.76\n",
            "Recall: 0.69\n",
            "F1 Score: 0.73\n"
          ]
        }
      ],
      "source": [
        "from sklearn.metrics import precision_score, recall_score, f1_score\n",
        "\n",
        "# Variables to store true labels and predictions\n",
        "true_labels = []\n",
        "predictions = []\n",
        "\n",
        "# Calculate the recipes to return using the best popularity threshold\n",
        "return1 = set()\n",
        "count = 0\n",
        "threshold_count = total_cooked * 0.7\n",
        "\n",
        "for ic, recipe in most_popular:\n",
        "    count += ic\n",
        "    return1.add(recipe)\n",
        "    if count > threshold_count:\n",
        "        break\n",
        "\n",
        "# Generate predictions for the validation set\n",
        "for user, recipe, label in cooked_valid:\n",
        "    prediction = 1 if recipe in return1 else 0\n",
        "    true_labels.append(label)\n",
        "    predictions.append(prediction)\n",
        "\n",
        "# Calculate precision, recall, and F1 score\n",
        "precision = precision_score(true_labels, predictions)\n",
        "recall = recall_score(true_labels, predictions)\n",
        "f1 = f1_score(true_labels, predictions)\n",
        "\n",
        "# Print the results\n",
        "print(f\"Precision: {precision:.2f}\")\n",
        "print(f\"Recall: {recall:.2f}\")\n",
        "print(f\"F1 Score: {f1:.2f}\")"
      ]
    },
    {
      "cell_type": "markdown",
      "metadata": {
        "id": "lb14LZawHurq"
      },
      "source": [
        "### Jaccard Similarity Model"
      ]
    },
    {
      "cell_type": "code",
      "execution_count": 40,
      "metadata": {
        "id": "j-YvOAgbHtcG"
      },
      "outputs": [],
      "source": [
        "# Jaccard similarity\n",
        "def Jaccard(r1, r2):\n",
        "    u1 = ratings_per_recipe[r1]\n",
        "    u2 = ratings_per_recipe[r2]\n",
        "    if u1.union(u2) == 0:\n",
        "        return 0\n",
        "    return len(u1.intersection(u2)) / len(u1.union(u2))"
      ]
    },
    {
      "cell_type": "code",
      "execution_count": null,
      "metadata": {
        "id": "LlOfj017H2Dk"
      },
      "outputs": [],
      "source": [
        "jaccard_accuracy = 0\n",
        "best_jaccard_threshold = 0\n",
        "jaccard_thresholds = np.arange(0.6, 0.9, 0.1)\n",
        "\n",
        "for j in jaccard_thresholds:\n",
        "    correct = 0\n",
        "    for user, recipe, label in cooked_valid:\n",
        "        max_jaccard = max((Jaccard(recipe, rprime) for rprime in ratings_per_user[user]),default=0)\n",
        "\n",
        "        prediction=0\n",
        "        if max_jaccard > j:\n",
        "            prediction = 1\n",
        "        else:\n",
        "            prediction = 0\n",
        "\n",
        "        if prediction == label:\n",
        "            correct += 1\n",
        "\n",
        "    accuracy = correct / len(cooked_valid)\n",
        "    print(j, accuracy)\n",
        "\n",
        "    if accuracy > jaccard_accuracy:\n",
        "        best_jaccard_threshold = j\n",
        "        jaccard_accuracy = accuracy\n",
        "\n",
        "print(f\"Best Accuracy: {jaccard_accuracy:.2f}, Best Threshold: {best_jaccard_threshold:.2f}\")\n",
        "\n",
        "# The best Jaccard threshold is no better than our baseline - as seen below, the best threshold is simply\n",
        "# the one that assigns all recipes to 0"
      ]
    },
    {
      "cell_type": "code",
      "execution_count": null,
      "metadata": {
        "id": "Jtikw_pUH4ZB"
      },
      "outputs": [],
      "source": [
        "from sklearn.metrics import precision_score, recall_score, f1_score\n",
        "\n",
        "# Variables to store true labels and predictions\n",
        "true_labels = []\n",
        "predictions = []\n",
        "\n",
        "# Using the best threshold from previous computation\n",
        "for user, recipe, label in cooked_valid:\n",
        "    max_jaccard = max((Jaccard(recipe, rprime) for rprime in ratings_per_user[user]), default=0)\n",
        "\n",
        "    # Predict based on the best threshold\n",
        "    prediction = 1 if max_jaccard > 0.7 else 0\n",
        "\n",
        "    # Append true labels and predictions\n",
        "    true_labels.append(label)\n",
        "    predictions.append(prediction)\n",
        "\n",
        "# Calculate precision, recall, and F1 score\n",
        "precision = precision_score(true_labels, predictions)\n",
        "recall = recall_score(true_labels, predictions)\n",
        "f1 = f1_score(true_labels, predictions)\n",
        "\n",
        "# Print the results\n",
        "print(f\"Precision: {precision:.2f}\")\n",
        "print(f\"Recall: {recall:.2f}\")\n",
        "print(f\"F1 Score: {f1:.2f}\")"
      ]
    },
    {
      "cell_type": "markdown",
      "metadata": {
        "id": "KJDUxuvUH7uu"
      },
      "source": [
        "### Cosine Similarity Model"
      ]
    },
    {
      "cell_type": "code",
      "execution_count": null,
      "metadata": {
        "id": "Uuq98v0AH6SI"
      },
      "outputs": [],
      "source": [
        "import math\n",
        "# Cosine Similarity\n",
        "def cosine_similarity(r1, r2):\n",
        "    u1 = ratings_per_recipe[r1]\n",
        "    u2 = ratings_per_recipe[r2]\n",
        "    numer = len(u1.intersection(u2))\n",
        "    denom = math.sqrt(len(u1)) * math.sqrt(len(u2))\n",
        "    if denom == 0:\n",
        "        return 0\n",
        "    return numer / denom"
      ]
    },
    {
      "cell_type": "code",
      "execution_count": null,
      "metadata": {
        "id": "zxoY13qaH_jg"
      },
      "outputs": [],
      "source": [
        "cosine_accuracy = 0\n",
        "best_cosine_threshold = 0\n",
        "cosine_thresholds = np.arange(0.8, 1, 0.1)\n",
        "\n",
        "for c in cosine_thresholds:\n",
        "    correct = 0\n",
        "    for user, recipe, label in cooked_valid:\n",
        "        max_cosine = max((cosine_similarity(recipe, rprime) for rprime in ratings_per_user[user]),default=0)\n",
        "\n",
        "        prediction=0\n",
        "        if max_cosine > c:\n",
        "            prediction = 1\n",
        "        else:\n",
        "            prediction = 0\n",
        "\n",
        "        if prediction == label:\n",
        "            correct += 1\n",
        "\n",
        "    accuracy = correct / len(cooked_valid)\n",
        "    print(c, accuracy)\n",
        "\n",
        "    if accuracy > cosine_accuracy:\n",
        "        best_cosine_threshold = c\n",
        "        cosine_accuracy = accuracy\n",
        "\n",
        "print(f\"Best Accuracy: {cosine_accuracy:.2f}, Best Threshold: {best_cosine_threshold:.2f}\")\n",
        "\n",
        "# The best Cosine threshold is no better than our baseline - as seen below, the best threshold is simply\n",
        "# the one that assigns all recipes to 0"
      ]
    },
    {
      "cell_type": "code",
      "execution_count": null,
      "metadata": {
        "id": "VuOey-6uIBFV"
      },
      "outputs": [],
      "source": [
        "from sklearn.metrics import precision_score, recall_score, f1_score\n",
        "\n",
        "# Variables to store true labels and predictions\n",
        "true_labels = []\n",
        "predictions = []\n",
        "\n",
        "# Using the best threshold from previous computation\n",
        "for user, recipe, label in cooked_valid:\n",
        "    max_cosine = max((cosine_similarity(recipe, rprime) for rprime in ratings_per_user[user]), default=0)\n",
        "\n",
        "    # Predict based on the best threshold\n",
        "    prediction = 1 if max_cosine > 0.9 else 0\n",
        "\n",
        "    # Append true labels and predictions\n",
        "    true_labels.append(label)\n",
        "    predictions.append(prediction)\n",
        "\n",
        "# Calculate precision, recall, and F1 score\n",
        "precision = precision_score(true_labels, predictions)\n",
        "recall = recall_score(true_labels, predictions)\n",
        "f1 = f1_score(true_labels, predictions)\n",
        "\n",
        "# Print the results\n",
        "print(f\"Precision: {precision:.2f}\")\n",
        "print(f\"Recall: {recall:.2f}\")\n",
        "print(f\"F1 Score: {f1:.2f}\")"
      ]
    },
    {
      "cell_type": "markdown",
      "metadata": {
        "id": "5koy6RauJYNx"
      },
      "source": [
        "### Logistic Regression Model"
      ]
    },
    {
      "cell_type": "code",
      "execution_count": null,
      "metadata": {
        "id": "y1E6q4-IIEpJ"
      },
      "outputs": [],
      "source": [
        "# Logistic regression using only popularity metrics, since on their own,\n",
        "# Cosine and Jaccard similarities were no better than the baseline\n",
        "\n",
        "X_train = []\n",
        "y_train = []\n",
        "\n",
        "for user, recipe, label in cooked_valid:\n",
        "    popularity_score = recipe_count[recipe] / global_popularity\n",
        "    user_activity = len(ratings_per_user[user]) / total_cooked\n",
        "\n",
        "    # add all features to feature vector\n",
        "    features = [popularity_score, user_activity]\n",
        "    X_train.append(features)\n",
        "    y_train.append(label)\n",
        "\n",
        "\n",
        "# Handle missing values\n",
        "imputer = SimpleImputer(missing_values=np.nan, strategy='constant', fill_value=0)\n",
        "X_train = imputer.fit_transform(X_train)\n",
        "\n",
        "# Normalize features\n",
        "scaler = StandardScaler()\n",
        "X_train = scaler.fit_transform(X_train)\n",
        "\n",
        "# Split into training and test sets\n",
        "X_train, X_test, y_train, y_test = train_test_split(X_train, y_train, test_size=0.2, random_state=42)\n",
        "\n",
        "# Train Logistic Regression model\n",
        "log_reg_model = LogisticRegression(max_iter=1000)\n",
        "log_reg_model.fit(X_train, y_train)\n",
        "\n",
        "# Evaluate the model\n",
        "y_pred = log_reg_model.predict(X_test)\n",
        "accuracy = accuracy_score(y_test, y_pred)\n",
        "print(f\"Accuracy: {accuracy:.2f}\")"
      ]
    },
    {
      "cell_type": "code",
      "execution_count": null,
      "metadata": {
        "id": "hF9b9NJBJewu"
      },
      "outputs": [],
      "source": [
        "# Logistic regression using average Cosine and Jaccard similarities along with their\n",
        "# weighted similarity\n",
        "\n",
        "X_train = []\n",
        "y_train = []\n",
        "\n",
        "K_values = [2,4,6]  # average top-K similarities for jaccard and cosine, as suggested by chatgpt\n",
        "\n",
        "for user, recipe, label in cooked_valid:\n",
        "    jaccard_similarities = [Jaccard(recipe, r) for r in ratings_per_user[user]]\n",
        "    jaccard_similarities.sort(reverse=True)\n",
        "    avg_jaccard_features = [np.mean(jaccard_similarities[:K]) for K in K_values]\n",
        "\n",
        "    cosine_similarities = [cosine_similarity(recipe, r) for r in ratings_per_user[user]]\n",
        "    cosine_similarities.sort(reverse=True)\n",
        "    avg_cosine_features = [np.mean(cosine_similarities[:K]) for K in K_values]\n",
        "\n",
        "    popularity_score = recipe_count[recipe] / global_popularity\n",
        "    user_activity = len(ratings_per_user[user]) / total_cooked\n",
        "    weighted_similarity = 0.5 * avg_jaccard_features[0] + 0.5 * avg_cosine_features[0]\n",
        "    # add all features to feature vector\n",
        "    features = avg_jaccard_features + avg_cosine_features + [popularity_score, user_activity, weighted_similarity]\n",
        "    X_train.append(features)\n",
        "    y_train.append(label)\n",
        "\n",
        "imputer = SimpleImputer(missing_values=np.nan, strategy='constant', fill_value=0)\n",
        "X_train = imputer.fit_transform(X_train)\n",
        "\n",
        "# Normalize features\n",
        "scaler = StandardScaler()\n",
        "X_train = scaler.fit_transform(X_train)\n",
        "\n",
        "# Split into training and test\n",
        "X_train, X_test, y_train, y_test = train_test_split(X_train, y_train, test_size=0.2, random_state=42)\n",
        "\n",
        "log_reg_model = LogisticRegression(max_iter=1000)\n",
        "log_reg_model.fit(X_train, y_train)\n",
        "\n",
        "y_pred = log_reg_model.predict(X_test)\n",
        "accuracy = accuracy_score(y_test, y_pred)\n",
        "print(f\"Accuracy: {accuracy:.2f}\")"
      ]
    },
    {
      "cell_type": "code",
      "execution_count": null,
      "metadata": {
        "id": "bNJ1aiTMJigk"
      },
      "outputs": [],
      "source": [
        "# Validation Metrics\n",
        "from sklearn.metrics import precision_score, recall_score, f1_score\n",
        "from sklearn.calibration import calibration_curve\n",
        "\n",
        "precision = precision_score(y_test, y_pred)\n",
        "print(f\"Precision: {precision:.2f}\")\n",
        "\n",
        "recall = recall_score(y_test, y_pred)\n",
        "print(f\"Recall: {recall:.2f}\")\n",
        "\n",
        "f1 = f1_score(y_test, y_pred)\n",
        "print(f\"F1 Score: {f1:.2f}\")"
      ]
    },
    {
      "cell_type": "code",
      "execution_count": null,
      "metadata": {
        "id": "whVFop6RJlux"
      },
      "outputs": [],
      "source": [
        "# Balanced class weight makes no difference\n",
        "log_reg_model = LogisticRegression(max_iter=1000, class_weight=\"balanced\")\n",
        "log_reg_model.fit(X_train, y_train)\n",
        "\n",
        "y_pred = log_reg_model.predict(X_test)\n",
        "accuracy = accuracy_score(y_test, y_pred)\n",
        "print(f\"Accuracy: {accuracy:.2f}\")"
      ]
    },
    {
      "cell_type": "code",
      "execution_count": null,
      "metadata": {
        "id": "QgTqFqaFJo4W"
      },
      "outputs": [],
      "source": [
        "from sklearn.metrics import precision_score, recall_score, f1_score\n",
        "from sklearn.calibration import calibration_curve\n",
        "\n",
        "precision = precision_score(y_test, y_pred)\n",
        "print(f\"Precision: {precision:.2f}\")\n",
        "\n",
        "recall = recall_score(y_test, y_pred)\n",
        "print(f\"Recall: {recall:.2f}\")\n",
        "\n",
        "f1 = f1_score(y_test, y_pred)\n",
        "print(f\"F1 Score: {f1:.2f}\")"
      ]
    },
    {
      "cell_type": "markdown",
      "metadata": {
        "id": "38ZcAqQ7Juev"
      },
      "source": [
        "### SVD Model\n",
        "\n",
        "This model will predict user ratings for a recipe."
      ]
    },
    {
      "cell_type": "code",
      "execution_count": null,
      "metadata": {
        "id": "TEC49cb6Jq4d"
      },
      "outputs": [],
      "source": [
        "!pip install surprise"
      ]
    },
    {
      "cell_type": "code",
      "execution_count": null,
      "metadata": {
        "id": "Wdmv5Rw-J_rw"
      },
      "outputs": [],
      "source": [
        "from surprise import SVD, Dataset, Reader\n",
        "from surprise.model_selection import train_test_split\n"
      ]
    },
    {
      "cell_type": "code",
      "execution_count": null,
      "metadata": {
        "id": "-i52G_UpKCUC"
      },
      "outputs": [],
      "source": [
        "data = pd.DataFrame(data,columns=[\"user_id\",\"recipe_id\",\"date\",\"rating\",\"review\"])\n",
        "\n",
        "reader = Reader(rating_scale=(1,5))\n",
        "data = Dataset.load_from_df(data[['user_id','recipe_id','rating']],reader)\n",
        "\n",
        "train_data, val_data = train_test_split(data, test_size=0.2)"
      ]
    },
    {
      "cell_type": "code",
      "execution_count": null,
      "metadata": {
        "id": "Ace0YxryKElt"
      },
      "outputs": [],
      "source": [
        "svd_model=SVD()\n",
        "svd_model.fit(train_data)\n",
        "predictions = svd_model.test(val_data)"
      ]
    },
    {
      "cell_type": "code",
      "execution_count": null,
      "metadata": {
        "id": "ND5MkJCWKGM5"
      },
      "outputs": [],
      "source": [
        "# just to visualize some predictions, check if it has data\n",
        "for prediction in predictions[:5]:\n",
        "    print(f\"User {prediction.uid} predicted rating for item {prediction.iid}: {prediction.est}\")"
      ]
    },
    {
      "cell_type": "code",
      "execution_count": null,
      "metadata": {
        "id": "Xh1Y4m4VKIP3"
      },
      "outputs": [],
      "source": [
        "# MSE for model predictions\n",
        "sse = 0\n",
        "for p in predictions:\n",
        "    sse += (p.r_ui - p.est)**2\n",
        "\n",
        "print(sse / len(predictions))"
      ]
    },
    {
      "cell_type": "markdown",
      "metadata": {
        "id": "_m16o-IfKM7t"
      },
      "source": [
        "MSE not that great, so going to optimize model a bit."
      ]
    },
    {
      "cell_type": "code",
      "execution_count": null,
      "metadata": {
        "id": "ioIjmo-CKK9X"
      },
      "outputs": [],
      "source": [
        "from surprise.model_selection import RandomizedSearchCV\n",
        "from surprise import accuracy"
      ]
    },
    {
      "cell_type": "code",
      "execution_count": null,
      "metadata": {
        "id": "ZqRgk5apKRfp"
      },
      "outputs": [],
      "source": [
        "param_grid = {\n",
        "    'n_factors': [25, 50, 75, 100],\n",
        "    'n_epochs': [20, 25, 30, 50],\n",
        "    'lr_all': [0.001, 0.005, 0.01],\n",
        "    'reg_all': [0.02, 0.1, 0.2, 0.5]\n",
        "}"
      ]
    },
    {
      "cell_type": "code",
      "execution_count": null,
      "metadata": {
        "id": "-JrABG0qKauz"
      },
      "outputs": [],
      "source": [
        "rs = RandomizedSearchCV(SVD, param_grid, measures=['rmse'], cv=5,n_iter=10,n_jobs=-1, random_state=42)\n",
        "rs.fit(data)\n",
        "print(\"Best RMSE:\", rs.best_score['rmse'])\n",
        "print(\"Best parameters:\", rs.best_params['rmse'])"
      ]
    },
    {
      "cell_type": "code",
      "execution_count": null,
      "metadata": {
        "id": "24r-XFgzKfve"
      },
      "outputs": [],
      "source": [
        "# Initialize the model with the best parameters\n",
        "svd_model = SVD(n_factors=50, n_epochs=25, lr_all=0.005, reg_all=0.1)\n",
        "\n",
        "svd_model.fit(train_data)\n",
        "predictions = svd_model.test(val_data)\n",
        "\n",
        "# calculate the RMSE on the predictions\n",
        "rmse = accuracy.rmse(predictions)\n",
        "print(f\"RMSE: {rmse}\")\n",
        "print(f\"MSE: {rmse**2}\")"
      ]
    },
    {
      "cell_type": "markdown",
      "metadata": {
        "id": "v2UXq7BvLEBm"
      },
      "source": [
        "# Content Based Filtering Model"
      ]
    },
    {
      "cell_type": "code",
      "execution_count": null,
      "metadata": {
        "id": "HWJFsZeeKv94"
      },
      "outputs": [],
      "source": [
        "# Step 1: Import Required Libraries\n",
        "import pandas as pd\n",
        "from sklearn.feature_extraction.text import TfidfVectorizer\n",
        "from sklearn.metrics.pairwise import cosine_similarity\n",
        "\n",
        "recipes = pd.read_csv('RAW_recipes.csv')\n",
        "\n",
        "# Step 4: Preprocess Data\n",
        "# Combine tags and ingredients into a searchable text column\n",
        "recipes['tags'] = recipes['tags'].str.strip('[]').str.replace(\"'\", \"\").str.replace(\",\", \" \")\n",
        "recipes['ingredients'] = recipes['ingredients'].str.strip('[]').str.replace(\"'\", \"\").str.replace(\",\", \" \")\n",
        "recipes['searchable_text'] = recipes['tags'].fillna('') + ' ' + recipes['ingredients'].fillna('')\n",
        "\n",
        "# Extract calories and time from the dataset\n",
        "# Nutrition format: \"[calories, fat, sugar, sodium, protein, saturated fat, ...]\"\n",
        "recipes['calories'] = recipes['nutrition'].str.strip('[]').str.split(',').str[0].astype(float)\n",
        "recipes['time'] = recipes['minutes']\n",
        "recipes['steps'] = recipes['steps'].str.strip('[]').str.replace(\"'\", \"\")\n",
        "\n",
        "# Step 5: Filter Recipes by Available Ingredients, Calories, and Time\n",
        "def filter_recipes(recipes, available_ingredients, max_calories=None, max_time=None):\n",
        "    # Filter by ingredients\n",
        "    filtered = recipes[recipes['ingredients'].str.contains('|'.join(available_ingredients), case=False, na=False)]\n",
        "\n",
        "    # Apply calorie filter if specified\n",
        "    if max_calories is not None:\n",
        "        filtered = filtered[filtered['calories'] <= max_calories]\n",
        "\n",
        "    # Apply time filter if specified\n",
        "    if max_time is not None:\n",
        "        filtered = filtered[filtered['time'] <= max_time]\n",
        "\n",
        "    return filtered\n",
        "\n",
        "# Step 6: Create a TF-IDF Vectorizer\n",
        "tfidf = TfidfVectorizer(stop_words='english')\n",
        "tfidf_matrix = tfidf.fit_transform(recipes['searchable_text'])\n",
        "\n",
        "# Step 7: Define Recommendation Function\n",
        "def recommend_recipes(available_ingredients, search_tags, max_calories=None, max_time=None, top_n=5):\n",
        "    # Filter recipes based on user preferences\n",
        "    filtered_recipes = filter_recipes(recipes, available_ingredients, max_calories, max_time)\n",
        "\n",
        "    # Combine available ingredients and tags into a query string\n",
        "    query = ' '.join(available_ingredients) + ' ' + ' '.join(search_tags)\n",
        "\n",
        "    # Transform the query into the same TF-IDF space\n",
        "    query_vector = tfidf.transform([query])\n",
        "\n",
        "    # Calculate cosine similarity between query and filtered recipes\n",
        "    filtered_tfidf_matrix = tfidf.transform(filtered_recipes['searchable_text'])\n",
        "    similarity_scores = cosine_similarity(query_vector, filtered_tfidf_matrix).flatten()\n",
        "\n",
        "    # Rank recipes by similarity score\n",
        "    top_indices = similarity_scores.argsort()[-top_n:][::-1]\n",
        "\n",
        "    # Get recommended recipes\n",
        "    recommended_recipes = filtered_recipes.iloc[top_indices]\n",
        "    return recommended_recipes[['name', 'ingredients', 'tags', 'calories', 'time', 'steps']]\n"
      ]
    },
    {
      "cell_type": "code",
      "execution_count": null,
      "metadata": {
        "id": "KN8wPR4XL1S3"
      },
      "outputs": [],
      "source": [
        "# Example Usage\n",
        "# Specify available ingredients, search tags, and (optional) user preferences\n",
        "available_ingredients = ['chocolate', 'peanut butter', 'caramel']\n",
        "search_tags = ['gluten free', 'easy']\n",
        "\n",
        "# Specify optional filters\n",
        "max_calories = None  # Leave as None if not required\n",
        "max_time = 30  # Leave as None if not required\n",
        "\n",
        "# Get Recommendations\n",
        "recommendations = recommend_recipes(available_ingredients, search_tags, max_calories, max_time)\n",
        "print(\"Recommended Recipes:\")\n",
        "for idx, row in recommendations.iterrows():\n",
        "    print(f\"\\nRecipe Name: {row['name']}\")\n",
        "    print(f\"Ingredients: {row['ingredients']}\")\n",
        "    print(f\"Tags: {row['tags']}\")\n",
        "    print(f\"Calories: {row['calories']}\")\n",
        "    print(f\"Time to Cook: {row['time']} minutes\")\n",
        "    print(f\"Steps: {row['steps']}\")\n",
        "    print(\"-\" * 40)\n"
      ]
    },
    {
      "cell_type": "markdown",
      "metadata": {
        "id": "Ut-xBa4DMMQe"
      },
      "source": [
        "# Hybrid Models\n",
        "\n",
        "### Logistic Regression on Filtered Recipes"
      ]
    },
    {
      "cell_type": "code",
      "execution_count": null,
      "metadata": {
        "id": "F_iAi3DIMB25"
      },
      "outputs": [],
      "source": [
        "# Perform similarities on recipes that contain chocolate (filtered dataset)\n",
        "\n",
        "# Specify available ingredients\n",
        "available_ingredients = ['chocolate']\n",
        "\n",
        "# Specify optional filters\n",
        "max_calories = None  # Leave as None if not required\n",
        "max_time = None  # Leave as None if not required\n",
        "\n",
        "# Filter recipes using content-based criteria\n",
        "filtered_recipes = filter_recipes(recipes, available_ingredients, max_calories, max_time)\n",
        "\n",
        "# Extract the IDs of the filtered recipes\n",
        "filtered_recipe_ids = set(filtered_recipes['id'])\n",
        "\n",
        "# Filter interactions based on the filtered recipes\n",
        "filtered_ratings_train = [\n",
        "    row for row in ratings_train if int(row[1]) in filtered_recipe_ids\n",
        "]\n",
        "filtered_ratings_valid = [\n",
        "    row for row in ratings_valid if int(row[1]) in filtered_recipe_ids\n",
        "]\n",
        "\n",
        "# Update user and recipe dictionaries for filtered dataset\n",
        "filtered_ratings_per_user = defaultdict(set)\n",
        "filtered_ratings_per_recipe = defaultdict(set)\n",
        "filtered_ratingDict = {}\n",
        "\n",
        "for row in filtered_ratings_train:\n",
        "    user = row[0]\n",
        "    recipe = row[1]\n",
        "    filtered_ratings_per_user[user].add(recipe)\n",
        "    filtered_ratings_per_recipe[recipe].add(user)\n",
        "    filtered_ratingDict[(user, recipe)] = row[3]\n",
        "\n",
        "# Define cooked_valid for filtered recipes\n",
        "filtered_cooked_valid = use_negatives(\n",
        "    filtered_ratings_valid, filtered_ratings_per_user, filtered_recipe_ids\n",
        ")"
      ]
    },
    {
      "cell_type": "code",
      "execution_count": null,
      "metadata": {
        "id": "X19NRCvDMcHn"
      },
      "outputs": [],
      "source": [
        "filtered_recipe_count = defaultdict(int)\n",
        "filtered_total_cooked = 0\n",
        "\n",
        "for row in filtered_ratings_train:\n",
        "    filtered_recipe_count[row[1]] += 1  # Count the number of interactions per recipe\n",
        "    filtered_total_cooked += 1            # Increment the total interactions count\n",
        "\n",
        "for row in filtered_ratings_valid:\n",
        "    filtered_recipe_count[row[1]] += 1  # Count the number of interactions per recipe\n",
        "    filtered_total_cooked += 1            # Increment the total interactions count\n",
        "\n",
        "filtered_popularity = filtered_total_cooked/len(filtered_recipe_count)\n",
        "\n",
        "# Create a set of all unique recipes\n",
        "all_filtered_recipes = set(recipe_count.keys())"
      ]
    },
    {
      "cell_type": "code",
      "execution_count": null,
      "metadata": {
        "id": "7LP1tbEyMgDQ"
      },
      "outputs": [],
      "source": [
        "# jaccard and cosine similarities based on filtered dictionaries\n",
        "def Jaccard(r1, r2):\n",
        "    u1 = filtered_ratings_per_recipe[r1]\n",
        "    u2 = filtered_ratings_per_recipe[r2]\n",
        "    if u1.union(u2) == 0:\n",
        "        return 0\n",
        "    return len(u1.intersection(u2)) / len(u1.union(u2))\n",
        "\n",
        "def cosine_similarity(r1, r2):\n",
        "    u1 = filtered_ratings_per_recipe[r1]\n",
        "    u2 = filtered_ratings_per_recipe[r2]\n",
        "    numer = len(u1.intersection(u2))\n",
        "    denom = math.sqrt(len(u1)) * math.sqrt(len(u2))\n",
        "    if denom == 0:\n",
        "        return 0\n",
        "    return numer / denom\n",
        "\n",
        "# Logistic regression on filtered dataset using combined features\n",
        "filtered_X_train = []\n",
        "filtered_y_train = []\n",
        "\n",
        "for user, recipe, label in filtered_cooked_valid:\n",
        "    jaccard_similarities = [Jaccard(recipe, r) for r in filtered_ratings_per_user[user]]\n",
        "    jaccard_similarities.sort(reverse=True)\n",
        "    avg_jaccard_features = [np.mean(jaccard_similarities[:K]) for K in K_values]\n",
        "\n",
        "    cosine_similarities = [cosine_similarity(recipe, r) for r in filtered_ratings_per_user[user]]\n",
        "    cosine_similarities.sort(reverse=True)\n",
        "    avg_cosine_features = [np.mean(cosine_similarities[:K]) for K in K_values]\n",
        "\n",
        "    popularity_score = recipe_count.get(recipe, 0) / filtered_popularity\n",
        "    user_activity = len(filtered_ratings_per_user[user]) / filtered_total_cooked\n",
        "    weighted_similarity = 0.5 * avg_jaccard_features[0] + 0.5 * avg_cosine_features[0]\n",
        "\n",
        "    # Add all features to feature vector\n",
        "    features = avg_jaccard_features + avg_cosine_features + [popularity_score, user_activity, weighted_similarity]\n",
        "    filtered_X_train.append(features)\n",
        "    filtered_y_train.append(label)\n",
        "\n",
        "# Handle missing values\n",
        "filtered_X_train = imputer.fit_transform(filtered_X_train)\n",
        "\n",
        "# Normalize features\n",
        "filtered_X_train = scaler.fit_transform(filtered_X_train)\n",
        "\n",
        "# Split into training and test sets\n",
        "filtered_X_train, filtered_X_test, filtered_y_train, filtered_y_test = train_test_split(filtered_X_train, filtered_y_train, test_size=0.2, random_state=42)\n",
        "\n",
        "log_reg_model_filtered = LogisticRegression(max_iter=1000)\n",
        "log_reg_model_filtered.fit(filtered_X_train, filtered_y_train)\n",
        "\n",
        "filtered_y_pred = log_reg_model_filtered.predict(filtered_X_test)\n",
        "filtered_accuracy = accuracy_score(filtered_y_test, filtered_y_pred)\n",
        "print(f\"Filtered Dataset Logistic Regression Accuracy: {filtered_accuracy:.2f}\")"
      ]
    },
    {
      "cell_type": "code",
      "execution_count": null,
      "metadata": {
        "id": "AJwoKRmDMj4z"
      },
      "outputs": [],
      "source": [
        "# Validation Metrics\n",
        "from sklearn.metrics import precision_score, recall_score, f1_score\n",
        "from sklearn.calibration import calibration_curve\n",
        "\n",
        "precision = precision_score(filtered_y_test, filtered_y_pred)\n",
        "print(f\"Precision: {precision:.2f}\")\n",
        "\n",
        "recall = recall_score(filtered_y_test, filtered_y_pred)\n",
        "print(f\"Recall: {recall:.2f}\")\n",
        "\n",
        "f1 = f1_score(filtered_y_test, filtered_y_pred)\n",
        "print(f\"F1 Score: {f1:.2f}\")"
      ]
    },
    {
      "cell_type": "markdown",
      "metadata": {
        "id": "t5cf5R2qMvEy"
      },
      "source": [
        "### Applying SVD model on Content-Base Filtered Recipes"
      ]
    },
    {
      "cell_type": "code",
      "execution_count": null,
      "metadata": {
        "id": "0zp8NPUMMmgx"
      },
      "outputs": [],
      "source": [
        "def recommend_recipes(available_ingredients, search_tags, max_calories=None, max_time=None, top_n=5):\n",
        "    filtered_recipes = filter_recipes(recipes, available_ingredients, max_calories, max_time)\n",
        "\n",
        "    query = ' '.join(available_ingredients) + ' ' + ' '.join(search_tags)\n",
        "    query_vector = tfidf.transform([query])\n",
        "\n",
        "    filtered_tfidf_matrix = tfidf.transform(filtered_recipes['searchable_text'])\n",
        "    similarity_scores = cosine_similarity(query_vector, filtered_tfidf_matrix).flatten()\n",
        "    # print(len(similarity_scores))\n",
        "\n",
        "    # Rank recipes by similarity score\n",
        "    top_indices = similarity_scores.argsort()[-top_n:][::-1]\n",
        "\n",
        "    # Select top filtered recipes and corresponding similarity scores\n",
        "    top_filtered_recipes = filtered_recipes.iloc[top_indices]\n",
        "    top_similarity_scores = similarity_scores[top_indices]\n",
        "\n",
        "    # Return filtered recipes and their aligned similarity scores\n",
        "    return top_filtered_recipes, top_similarity_scores\n"
      ]
    },
    {
      "cell_type": "code",
      "execution_count": null,
      "metadata": {
        "id": "SJN4LT5MM69H"
      },
      "outputs": [],
      "source": [
        "# Step 1: Get content-based recommendations\n",
        "available_ingredients = ['chocolate', 'peanut butter', 'caramel']\n",
        "search_tags = ['60-minutes-or-less', 'easy']\n",
        "filtered_recipes, similarity_scores = recommend_recipes(available_ingredients, search_tags)\n",
        "\n",
        "\n",
        "# Step 2: Get collaborative filtering (SVD) predictions\n",
        "user_id = \"226867\"\n",
        "recipe_ids = filtered_recipes['id'].tolist()\n",
        "\n",
        "# user_pred = [prediction for prediction in predictions if prediction.uid == user_id] #just to print svd pred for particular user to see what it has rated previously\n",
        "# for prediction in user_pred:\n",
        "#     print(f\"User {prediction.uid} predicted rating for item {prediction.iid}: {prediction.est}\")\n",
        "\n",
        "svd_predictions = [svd_model.predict(user_id, recipe_id) for recipe_id in recipe_ids]\n",
        "\n",
        "\n",
        "# Step 3: Combine content-based and collaborative filtering scores\n",
        "combined_scores = pd.DataFrame({\n",
        "    'recipe': filtered_recipes['name'],\n",
        "    'recipe_id': filtered_recipes['id'],\n",
        "    'content_score': similarity_scores\n",
        "})\n",
        "\n",
        "combined_scores['svd_predicted_rating'] = [pred.est for pred in svd_predictions]\n",
        "\n",
        "\n",
        "# Step 4: Calculate the final hybrid score\n",
        "combined_scores['final_score'] = combined_scores['content_score'] * 0.5 + combined_scores['svd_predicted_rating'] * 0.5\n",
        "\n",
        "\n",
        "# Step 5: Sort by the final score and recommend top N recipes\n",
        "top_recommended = combined_scores.sort_values(by='final_score', ascending=False).head(5)\n",
        "\n",
        "# Display the top recommended recipes\n",
        "pd.set_option('display.max_columns', None)\n",
        "pd.set_option('display.width',1000)\n",
        "pd.set_option('display.max_colwidth',None)\n",
        "print(top_recommended[['recipe', 'recipe_id','content_score', 'svd_predicted_rating', 'final_score']])"
      ]
    },
    {
      "cell_type": "code",
      "execution_count": null,
      "metadata": {
        "id": "vqVV-n5dNFH2"
      },
      "outputs": [],
      "source": [
        "def precision_at_n(predictions,n=5,threshold=4.0):\n",
        "  precision=[]\n",
        "\n",
        "  for user_id,group in predictions.groupby('user_id'):\n",
        "    top_n_pred = group.sort_values(by='predicted_rating',ascending=False).head(n)\n",
        "    rec_relevant = top_n_pred[top_n_pred['actual_rating']>= threshold]\n",
        "\n",
        "    precision.append(len(rec_relevant)/n)\n",
        "\n",
        "\n",
        "  avg_precision = sum(precision)/len(precision)\n",
        "  return avg_precision"
      ]
    },
    {
      "cell_type": "code",
      "execution_count": null,
      "metadata": {
        "id": "-F7YoXP9NK7y"
      },
      "outputs": [],
      "source": [
        "user_ids_to_filter = [\"226867\", \"869184\", \"588889\",\"128473\",\"1663823\",\"956104\"]\n",
        "raw_data = data.raw_ratings\n",
        "ratings_df = pd.DataFrame(raw_data, columns=['user_id', 'recipe_id', 'rating','timestamp'])\n",
        "filtered_data = ratings_df[ratings_df['user_id'].isin(user_ids_to_filter)]\n",
        "\n",
        "\n",
        "predicted_scores = [svd_model.predict(user_id, recipe_id).est for user_id, recipe_id in zip(filtered_data['user_id'], filtered_data['recipe_id'])]\n",
        "\n",
        "\n",
        "# Create predictions DataFrame\n",
        "predictions_df = pd.DataFrame({\n",
        "    'user_id': filtered_data['user_id'].tolist(),\n",
        "    'recipe_id': filtered_data['recipe_id'].tolist(),\n",
        "    'actual_rating': filtered_data['rating'].tolist(),\n",
        "    'predicted_rating': predicted_scores  # Add your predicted ratings here\n",
        "})\n",
        "print(predictions_df)\n",
        "\n",
        "avg_prec = precision_at_n(predictions_df)\n",
        "print(f\"Precision@5: {avg_prec:.4f}\")"
      ]
    },
    {
      "cell_type": "code",
      "execution_count": null,
      "metadata": {
        "id": "1i2hCeunNZp6"
      },
      "outputs": [],
      "source": [
        "avg_prec = precision_at_n(predictions_df)\n",
        "print(f\"Precision@5: {avg_prec:.4f}\")"
      ]
    },
    {
      "cell_type": "code",
      "source": [],
      "metadata": {
        "id": "fwhoTTM8QLxA"
      },
      "execution_count": null,
      "outputs": []
    }
  ],
  "metadata": {
    "colab": {
      "provenance": []
    },
    "kernelspec": {
      "display_name": "Python 3",
      "name": "python3"
    },
    "language_info": {
      "name": "python"
    }
  },
  "nbformat": 4,
  "nbformat_minor": 0
}